{
 "cells": [
  {
   "cell_type": "code",
   "execution_count": 16,
   "id": "63901782",
   "metadata": {},
   "outputs": [],
   "source": [
    "import os\n",
    "import pandas as pd\n"
   ]
  },
  {
   "cell_type": "code",
   "execution_count": 17,
   "id": "672dc407",
   "metadata": {},
   "outputs": [],
   "source": [
    "path = r'C:\\Users\\peter\\Documents\\Citibike'\n"
   ]
  },
  {
   "cell_type": "code",
   "execution_count": 18,
   "id": "de2e5da5",
   "metadata": {},
   "outputs": [],
   "source": [
    "df = pd.read_csv(os.path.join(path, '02 Data','Prepared Data', 'citi_b_new.csv'), index_col = False)"
   ]
  },
  {
   "cell_type": "code",
   "execution_count": 19,
   "id": "f122c76f",
   "metadata": {},
   "outputs": [],
   "source": [
    "# Convert relevant columns to datetime if applicable\n",
    "df['start_of_ride'] = pd.to_datetime(df['start_of_ride'], errors='coerce')\n",
    "df['end_of_ride'] = pd.to_datetime(df['end_of_ride'], errors='coerce')"
   ]
  },
  {
   "cell_type": "code",
   "execution_count": 20,
   "id": "577cd270",
   "metadata": {},
   "outputs": [],
   "source": [
    "# Checking the data types\n",
    "data_types = df.dtypes"
   ]
  },
  {
   "cell_type": "code",
   "execution_count": 21,
   "id": "7a7e3152",
   "metadata": {},
   "outputs": [],
   "source": [
    "# Defining the characteristics of variables\n",
    "time_invariant = ['Unnamed: 0', 'start_station_id', 'start_station_name', 'start_station_latitude', 'start_station_longitude', 'end_station_id', 'end_station_name', 'end_station_latitude', 'end_station_longitude', 'subscriber', 'birth_year', 'gender']\n",
    "structured = df.columns.tolist()\n",
    "qualitative = ['weekday', 'start_station_name', 'end_station_name', 'subscriber', 'gender']\n",
    "quantitative = ['Unnamed: 0', 'start_hour', 'start_station_id', 'start_station_latitude', 'start_station_longitude', 'end_station_id', 'end_station_latitude', 'end_station_longitude', 'trip_duration', 'birth_year']"
   ]
  },
  {
   "cell_type": "code",
   "execution_count": 22,
   "id": "4c6b6fb4",
   "metadata": {},
   "outputs": [
    {
     "name": "stdout",
     "output_type": "stream",
     "text": [
      "Data Types:\n",
      " Unnamed: 0                          int64\n",
      "weekday                            object\n",
      "start_hour                          int64\n",
      "start_station_id                    int64\n",
      "start_station_name                 object\n",
      "start_station_latitude            float64\n",
      "start_station_longitude           float64\n",
      "end_station_id                      int64\n",
      "end_station_name                   object\n",
      "end_station_latitude              float64\n",
      "end_station_longitude             float64\n",
      "trip_duration                       int64\n",
      "subscriber                         object\n",
      "birth_year                        float64\n",
      "gender                             object\n",
      "start_of_ride              datetime64[ns]\n",
      "end_of_ride                datetime64[ns]\n",
      "dtype: object\n",
      "\n",
      "Time-invariant columns: ['Unnamed: 0', 'start_station_id', 'start_station_name', 'start_station_latitude', 'start_station_longitude', 'end_station_id', 'end_station_name', 'end_station_latitude', 'end_station_longitude', 'subscriber', 'birth_year', 'gender']\n",
      "Structured columns: ['Unnamed: 0', 'weekday', 'start_hour', 'start_station_id', 'start_station_name', 'start_station_latitude', 'start_station_longitude', 'end_station_id', 'end_station_name', 'end_station_latitude', 'end_station_longitude', 'trip_duration', 'subscriber', 'birth_year', 'gender', 'start_of_ride', 'end_of_ride']\n",
      "Qualitative columns: ['weekday', 'start_station_name', 'end_station_name', 'subscriber', 'gender']\n",
      "Quantitative columns: ['Unnamed: 0', 'start_hour', 'start_station_id', 'start_station_latitude', 'start_station_longitude', 'end_station_id', 'end_station_latitude', 'end_station_longitude', 'trip_duration', 'birth_year']\n"
     ]
    }
   ],
   "source": [
    "# Displaying the results\n",
    "print(\"Data Types:\\n\", data_types)\n",
    "print(\"\\nTime-invariant columns:\", time_invariant)\n",
    "print(\"Structured columns:\", structured)\n",
    "print(\"Qualitative columns:\", qualitative)\n",
    "print(\"Quantitative columns:\", quantitative)"
   ]
  },
  {
   "cell_type": "code",
   "execution_count": null,
   "id": "95e076a4",
   "metadata": {},
   "outputs": [],
   "source": []
  }
 ],
 "metadata": {
  "kernelspec": {
   "display_name": "Python 3 (ipykernel)",
   "language": "python",
   "name": "python3"
  },
  "language_info": {
   "codemirror_mode": {
    "name": "ipython",
    "version": 3
   },
   "file_extension": ".py",
   "mimetype": "text/x-python",
   "name": "python",
   "nbconvert_exporter": "python",
   "pygments_lexer": "ipython3",
   "version": "3.11.7"
  }
 },
 "nbformat": 4,
 "nbformat_minor": 5
}
